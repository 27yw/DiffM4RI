{
 "cells": [
  {
   "cell_type": "code",
   "execution_count": 2,
   "id": "9ed4006a-1197-462d-8e31-09c326c4ac54",
   "metadata": {
    "tags": []
   },
   "outputs": [
    {
     "name": "stdout",
     "output_type": "stream",
     "text": [
      "平均SSIM: 0.7262695301105301\n",
      "SSIM标准差: 0.07432180038568004\n",
      "平均MSE: 0.0096213761765675\n",
      "MSE标准差: 0.006941546011866552\n"
     ]
    }
   ],
   "source": [
    "import os\n",
    "import numpy as np\n",
    "from skimage import io\n",
    "from skimage.metrics import structural_similarity as ssim\n",
    "from skimage.metrics import mean_squared_error\n",
    "\n",
    "# 第一个文件夹路径\n",
    "folder1 = \"/root/autodl-tmp/vqvae/recon/3_missing/pic2\"\n",
    "# 第二个文件夹路径\n",
    "folder2 = \"/root/autodl-tmp/slice_t2\"\n",
    "\n",
    "# 存储所有SSIM和MSE值的列表\n",
    "ssim_values = []\n",
    "mse_values = []\n",
    "\n",
    "# 遍历第一个文件夹中的文件名\n",
    "for filename in os.listdir(folder1):\n",
    "    # 构建文件路径\n",
    "    filepath1 = os.path.join(folder1, filename)\n",
    "    filepath2 = os.path.join(folder2, filename)\n",
    "    \n",
    "    # 如果第二个文件夹中也有相同文件名的文件\n",
    "    if os.path.exists(filepath2):\n",
    "        # 加载灰度图像\n",
    "        image1 = io.imread(filepath1, as_gray=True)\n",
    "        image2 = io.imread(filepath2, as_gray=True)\n",
    "        image1 = image1 / 255.0  # 将像素值缩放到 [0, 1] 范围\n",
    "        image2 = image2 / 255.0  # 将像素值缩放到 [0, 1] 范围\n",
    "        min_value1 = np.min(image1)\n",
    "        max_value1 = np.max(image1)\n",
    "        min_value2 = np.min(image2)\n",
    "        max_value2 = np.max(image2)\n",
    "        data_range= max((max_value1-min_value1),(max_value2-min_value2))\n",
    "        # 计算SSIM\n",
    "        # 计算SSIM和MSE\n",
    "        ssim_value, _ = ssim(image1, image2, full=True,data_range=data_range)\n",
    "        mse_value = mean_squared_error(image1, image2)\n",
    "        \n",
    "        # 将结果存储到列表中\n",
    "        ssim_values.append(ssim_value)\n",
    "        mse_values.append(mse_value)\n",
    "\n",
    "# 计算平均值和标准差\n",
    "avg_ssim = np.mean(ssim_values)\n",
    "std_ssim = np.std(ssim_values)\n",
    "avg_mse = np.mean(mse_values)\n",
    "std_mse = np.std(mse_values)\n",
    "\n",
    "# 输出结果\n",
    "print(\"平均SSIM:\", avg_ssim)\n",
    "print(\"SSIM标准差:\", std_ssim)\n",
    "print(\"平均MSE:\", avg_mse)\n",
    "print(\"MSE标准差:\", std_mse)\n"
   ]
  },
  {
   "cell_type": "code",
   "execution_count": null,
   "id": "73f1b4ee-b8f9-4f1d-8506-ccb7fb8e171e",
   "metadata": {},
   "outputs": [],
   "source": []
  }
 ],
 "metadata": {
  "kernelspec": {
   "display_name": "Python 3 (ipykernel)",
   "language": "python",
   "name": "python3"
  },
  "language_info": {
   "codemirror_mode": {
    "name": "ipython",
    "version": 3
   },
   "file_extension": ".py",
   "mimetype": "text/x-python",
   "name": "python",
   "nbconvert_exporter": "python",
   "pygments_lexer": "ipython3",
   "version": "3.8.10"
  }
 },
 "nbformat": 4,
 "nbformat_minor": 5
}
